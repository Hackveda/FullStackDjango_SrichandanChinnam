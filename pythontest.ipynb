{
 "cells": [
  {
   "cell_type": "code",
   "execution_count": 3,
   "id": "e8021a24",
   "metadata": {},
   "outputs": [
    {
     "data": {
      "text/plain": [
       "3"
      ]
     },
     "execution_count": 3,
     "metadata": {},
     "output_type": "execute_result"
    }
   ],
   "source": [
    "1 + 2"
   ]
  },
  {
   "cell_type": "code",
   "execution_count": 7,
   "id": "2f2ab40b",
   "metadata": {},
   "outputs": [
    {
     "name": "stdout",
     "output_type": "stream",
     "text": [
      "Shivam Pandey\n"
     ]
    }
   ],
   "source": [
    "name = \"Shivam\" + \" Pandey\"\n",
    "print(name)"
   ]
  },
  {
   "cell_type": "code",
   "execution_count": 28,
   "id": "6f6c84f0",
   "metadata": {},
   "outputs": [
    {
     "name": "stdout",
     "output_type": "stream",
     "text": [
      "0    a\n",
      "1    b\n",
      "2    c\n",
      "3    d\n",
      "4    e\n",
      "dtype: object\n"
     ]
    }
   ],
   "source": [
    "#Creating pandas series with Numpy Array\n",
    "import pandas as pd\n",
    "import numpy as np\n",
    "data = np.array(['a','b','c','d','e'])\n",
    "s = pd.Series(data)\n",
    "print(s)"
   ]
  },
  {
   "cell_type": "code",
   "execution_count": 24,
   "id": "a2496693",
   "metadata": {},
   "outputs": [
    {
     "name": "stdout",
     "output_type": "stream",
     "text": [
      "a      1\n",
      "b      2\n",
      "c      3\n",
      "d    ABC\n",
      "e    NaN\n",
      "f    NaN\n",
      "dtype: object\n"
     ]
    }
   ],
   "source": [
    "#Creating Series with Dict\n",
    "import pandas as pd\n",
    "import numpy as np\n",
    "dict = {'a':1, 'b' : 2, 'c' : 3, 'd' : \"ABC\"}\n",
    "s = pd.Series(dict,index=['a','b','c','d','e','f'])\n",
    "print(s)"
   ]
  },
  {
   "cell_type": "code",
   "execution_count": 25,
   "id": "52c730d1",
   "metadata": {},
   "outputs": [
    {
     "name": "stdout",
     "output_type": "stream",
     "text": [
      "Empty DataFrame\n",
      "Columns: []\n",
      "Index: []\n"
     ]
    }
   ],
   "source": [
    "#Creating Empty Dataframe\n",
    "import pandas as pd\n",
    "df = pd.DataFrame()\n",
    "print(df)"
   ]
  },
  {
   "cell_type": "code",
   "execution_count": 30,
   "id": "7172311f",
   "metadata": {},
   "outputs": [
    {
     "name": "stdout",
     "output_type": "stream",
     "text": [
      "   0\n",
      "0  1\n",
      "1  2\n",
      "2  3\n",
      "3  4\n"
     ]
    }
   ],
   "source": [
    "#Creating Dataframe with List\n",
    "import pandas as pd\n",
    "a = [1,2,3,4]\n",
    "df = pd.DataFrame(a)\n",
    "print(df)"
   ]
  },
  {
   "cell_type": "code",
   "execution_count": 29,
   "id": "b8f3e841",
   "metadata": {},
   "outputs": [
    {
     "name": "stdout",
     "output_type": "stream",
     "text": [
      "Series([], dtype: float64)\n"
     ]
    },
    {
     "name": "stderr",
     "output_type": "stream",
     "text": [
      "C:\\Users\\Welcome\\AppData\\Local\\Temp/ipykernel_11500/3730986144.py:2: DeprecationWarning: The default dtype for empty Series will be 'object' instead of 'float64' in a future version. Specify a dtype explicitly to silence this warning.\n",
      "  ser = pd.Series()\n"
     ]
    }
   ],
   "source": [
    "#Creating empty series\n",
    "import pandas as pd\n",
    "ser = pd.Series()\n",
    "print(ser)"
   ]
  },
  {
   "cell_type": "code",
   "execution_count": 33,
   "id": "b3ee1a2d",
   "metadata": {},
   "outputs": [
    {
     "name": "stdout",
     "output_type": "stream",
     "text": [
      "      Name  Age\n",
      "0     Alex   65\n",
      "1  Matturi   76\n",
      "2  Douguls   72\n",
      "Index(['Name', 'Age'], dtype='object')\n"
     ]
    }
   ],
   "source": [
    "#Creating dataframe with List of Lists\n",
    "import pandas as pd\n",
    "a = [['Alex',65],['Matturi',76],['Douguls',72]]\n",
    "df = pd.DataFrame(a, columns=['Name','Age'])\n",
    "print(df)\n",
    "print(df.columns)"
   ]
  },
  {
   "cell_type": "code",
   "execution_count": 38,
   "id": "b3be0f21",
   "metadata": {},
   "outputs": [
    {
     "name": "stdout",
     "output_type": "stream",
     "text": [
      "         Name  Age\n",
      "0        Alex   65\n",
      "1     Matturi   76\n",
      "2     Douguls   89\n",
      "3      Shivam   30\n",
      "4  Srichandan   43\n"
     ]
    }
   ],
   "source": [
    "#creating dataframe with Dict of Lists\n",
    "import pandas as pd\n",
    "a ={'Name':['Alex','Matturi','Douguls', 'Shivam','Srichandan'],'Age':[65,76,89,30,43]}\n",
    "df = pd.DataFrame(a,index=[0,1,2,3,4])\n",
    "print(df)"
   ]
  },
  {
   "cell_type": "code",
   "execution_count": 50,
   "id": "d67a6cad",
   "metadata": {},
   "outputs": [
    {
     "name": "stdout",
     "output_type": "stream",
     "text": [
      "      a  b1     c\n",
      "Row1  1   2   NaN\n",
      "Row2  5  10  20.0\n",
      "      a  b1  c1\n",
      "Row1  1   2 NaN\n",
      "Row2  5  10 NaN\n"
     ]
    }
   ],
   "source": [
    "#Creating dataframe with List of Dicts\n",
    "import pandas as pd\n",
    "data = [{'a': 1, 'b1': 2},{'a': 5, 'b1': 10, 'c': 20}]\n",
    "df = pd.DataFrame(data,index=['Row1','Row2'], columns=['a','b1','c'])\n",
    "print(df)\n",
    "\n",
    "df1 = pd.DataFrame(data,index=['Row1','Row2'], columns=['a','b1','c1'])\n",
    "print(df1)"
   ]
  },
  {
   "cell_type": "code",
   "execution_count": 51,
   "id": "d8a46b39",
   "metadata": {},
   "outputs": [
    {
     "name": "stdout",
     "output_type": "stream",
     "text": [
      "   one  two\n",
      "a  1.0    1\n",
      "b  2.0    2\n",
      "c  3.0    3\n",
      "d  NaN    4\n"
     ]
    }
   ],
   "source": [
    "#Creating dataframe with Series\n",
    "import pandas as pd\n",
    "\n",
    "d = {'one' : pd.Series([1, 2, 3], index=['a', 'b', 'c']), 'two' : pd.Series([1, 2, 3, 4], index=['a', 'b', 'c', 'd'])}\n",
    "df = pd.DataFrame(d)\n",
    "print(df)"
   ]
  },
  {
   "cell_type": "code",
   "execution_count": 60,
   "id": "a1bc4cad",
   "metadata": {},
   "outputs": [
    {
     "name": "stdout",
     "output_type": "stream",
     "text": [
      "   one  two\n",
      "a  1.0    1\n",
      "b  2.0    2\n",
      "c  3.0    3\n",
      "d  NaN    4\n",
      "*************\n",
      "one    2.0\n",
      "two    2.0\n",
      "Name: b, dtype: float64\n",
      "*************\n",
      "one    2.0\n",
      "two    2.0\n",
      "Name: b, dtype: float64\n"
     ]
    }
   ],
   "source": [
    "#Selecting by label & index\n",
    "import pandas as pd\n",
    "d = {'one' : pd.Series([1, 2, 3], index=['a', 'b', 'c']), 'two' : pd.Series([1, 2, 3, 4], index=['a', 'b', 'c', 'd'])}\n",
    "df = pd.DataFrame(d)\n",
    "print(df)\n",
    "print(\"*************\")\n",
    "print(df.loc['b'])\n",
    "print(\"*************\")\n",
    "print(df.iloc[1])"
   ]
  },
  {
   "cell_type": "code",
   "execution_count": 64,
   "id": "3ca6aa11",
   "metadata": {},
   "outputs": [
    {
     "name": "stdout",
     "output_type": "stream",
     "text": [
      "   a  b\n",
      "0  1  2\n",
      "1  3  4\n",
      "************\n",
      "   a  b\n",
      "0  5  6\n",
      "1  7  8\n",
      "************\n",
      "   a  b\n",
      "0  1  2\n",
      "1  3  4\n",
      "0  5  6\n",
      "1  7  8\n"
     ]
    }
   ],
   "source": [
    "#Adding new rows to Dataframe\n",
    "import pandas as pd\n",
    "df = pd.DataFrame([[1, 2], [3, 4]], columns = ['a','b'])\n",
    "print(df)\n",
    "print(\"************\")\n",
    "df1 = pd.DataFrame([[5,6], [7,8]], columns = ['a','b'])\n",
    "print(df1)\n",
    "print(\"************\")\n",
    "df2 = df.append(df1)\n",
    "print(df2)"
   ]
  },
  {
   "cell_type": "code",
   "execution_count": 73,
   "id": "7520a4a6",
   "metadata": {},
   "outputs": [
    {
     "name": "stdout",
     "output_type": "stream",
     "text": [
      "   a  b\n",
      "0  1  2\n",
      "1  3  4\n",
      "0  5  6\n",
      "1  7  8\n",
      "**********\n",
      "********\n",
      "Empty DataFrame\n",
      "Columns: [a, b]\n",
      "Index: []\n"
     ]
    }
   ],
   "source": [
    "#Deleting the rows based on index\n",
    "import pandas as pd\n",
    "df = pd.DataFrame([[1, 2], [3, 4]], columns = ['a','b'])\n",
    "df1 = pd.DataFrame([[5,6], [7,8]], columns = ['a','b'])\n",
    "df2 = df.append(df1)\n",
    "print(df2)\n",
    "print(\"**********\")\n",
    "df3 = df2.drop(0)\n",
    "df4 = df3.drop(1)\n",
    "print(\"********\")\n",
    "print(df4)"
   ]
  },
  {
   "cell_type": "code",
   "execution_count": 5,
   "id": "7464d0ff",
   "metadata": {},
   "outputs": [
    {
     "data": {
      "text/plain": [
       "array([-0.17237892, -1.53357973])"
      ]
     },
     "execution_count": 5,
     "metadata": {},
     "output_type": "execute_result"
    }
   ],
   "source": [
    "#Generating random numbers using numpy\n",
    "import numpy as np\n",
    "\n",
    "array = np.random.randn(2)\n",
    "array"
   ]
  },
  {
   "cell_type": "code",
   "execution_count": 10,
   "id": "e0637827",
   "metadata": {},
   "outputs": [
    {
     "data": {
      "text/plain": [
       "array([[ 0.69672261,  0.47643607],\n",
       "       [-0.61091357, -0.25614175]])"
      ]
     },
     "execution_count": 10,
     "metadata": {},
     "output_type": "execute_result"
    }
   ],
   "source": [
    "#Generating random numbers using args\n",
    "import numpy as np\n",
    "\n",
    "array = np.random.randn(2,2)\n",
    "array"
   ]
  },
  {
   "cell_type": "code",
   "execution_count": 17,
   "id": "6292203d",
   "metadata": {},
   "outputs": [
    {
     "name": "stdout",
     "output_type": "stream",
     "text": [
      "      Name  Age  Rating\n",
      "0      Tom   25    4.23\n",
      "1    James   26    3.24\n",
      "2    Ricky   25    3.98\n",
      "3      Vin   23    2.56\n",
      "4    Steve   30    3.20\n",
      "5    Smith   29    4.60\n",
      "6     Jack   23    3.80\n",
      "7      Lee   34    3.78\n",
      "8    David   40    2.98\n",
      "9   Gasper   30    4.80\n",
      "10  Betina   51    4.10\n",
      "11  Andres   46    3.65\n",
      "***********\n",
      "Name      TomJamesRickyVinSteveSmithJackLeeDavidGasperBe...\n",
      "Age                                                     382\n",
      "Rating                                                44.92\n",
      "dtype: object\n",
      "**********\n",
      "0     29.23\n",
      "1     29.24\n",
      "2     28.98\n",
      "3     25.56\n",
      "4     33.20\n",
      "5     33.60\n",
      "6     26.80\n",
      "7     37.78\n",
      "8     42.98\n",
      "9     34.80\n",
      "10    55.10\n",
      "11    49.65\n",
      "dtype: float64\n"
     ]
    },
    {
     "name": "stderr",
     "output_type": "stream",
     "text": [
      "C:\\Users\\Welcome\\AppData\\Local\\Temp/ipykernel_11520/3134130651.py:15: FutureWarning: Dropping of nuisance columns in DataFrame reductions (with 'numeric_only=None') is deprecated; in a future version this will raise TypeError.  Select only valid columns before calling the reduction.\n",
      "  print(df.sum(axis=1))\n"
     ]
    }
   ],
   "source": [
    "#Sum method in pandas\n",
    "import pandas as pd\n",
    "\n",
    "d = {'Name':pd.Series(['Tom','James','Ricky','Vin','Steve','Smith','Jack',\n",
    "\t\t\t   'Lee','David','Gasper','Betina','Andres']),\n",
    "\t\t\t   'Age':pd.Series([25,26,25,23,30,29,23,34,40,30,51,46]),\n",
    "\t\t\t   'Rating':pd.Series([4.23,3.24,3.98,2.56,3.20,4.6,3.8,3.78,2.98,4.80,4.10,3.65])\n",
    "\t\t\t}\n",
    "\n",
    "df = pd.DataFrame(d)\n",
    "print(df)\n",
    "print(\"***********\")\n",
    "print(df.sum()) #As you are not defining any axis, by default it will be row wise operation.\n",
    "print(\"**********\")\n",
    "print(df.sum(axis=1)) #Here we are defining axis 1, means it will perform sum on column wise."
   ]
  },
  {
   "cell_type": "code",
   "execution_count": 21,
   "id": "6a86c540",
   "metadata": {},
   "outputs": [
    {
     "name": "stdout",
     "output_type": "stream",
     "text": [
      "       col1      col2      col3\n",
      "0 -0.253351 -0.790229 -0.285593\n",
      "1 -1.221682  0.263473 -0.145857\n",
      "2  0.873522  1.163650 -0.332650\n",
      "3  0.586280  0.654956  0.198461\n",
      "4 -0.326381  0.612483 -0.007266\n",
      "************\n",
      "       col1      col2      col3\n",
      "0  0.746649  0.209771  0.714407\n",
      "1 -0.221682  1.263473  0.854143\n",
      "2  1.873522  2.163650  0.667350\n",
      "3  1.586280  1.654956  1.198461\n",
      "4  0.673619  1.612483  0.992734\n"
     ]
    }
   ],
   "source": [
    "#pipe example and appliying on entire table\n",
    "def adder(ele1,ele2):\n",
    "\treturn ele1+ele2\n",
    "\n",
    "df = pd.DataFrame(np.random.randn(5,3), columns=['col1','col2','col3'])\n",
    "print(df)\n",
    "a = df.pipe(adder,1)\n",
    "print(\"************\")\n",
    "print(a)"
   ]
  },
  {
   "cell_type": "code",
   "execution_count": 29,
   "id": "b7aa27ea",
   "metadata": {},
   "outputs": [
    {
     "name": "stdout",
     "output_type": "stream",
     "text": [
      "       col1      col2\n",
      "0  1.900897 -1.779758\n",
      "1  0.736819  0.404835\n",
      "**********\n",
      "col1    1.318858\n",
      "col2   -0.687462\n",
      "dtype: float64\n",
      "*************\n",
      "0    0.060569\n",
      "1    0.570827\n",
      "dtype: float64\n"
     ]
    }
   ],
   "source": [
    "#applying either on row or column only\n",
    "df = pd.DataFrame(np.random.randn(2,2), columns=['col1','col2'])\n",
    "print(df)\n",
    "print(\"**********\")\n",
    "print(df.apply(np.mean, axis=0)) #By default it will be row wise\n",
    "print(\"*************\")\n",
    "print(df.apply(np.mean, axis=1)) #axis 1 represents column wise operations."
   ]
  },
  {
   "cell_type": "code",
   "execution_count": 37,
   "id": "9e739ef6",
   "metadata": {},
   "outputs": [
    {
     "name": "stdout",
     "output_type": "stream",
     "text": [
      "       col1      col2      col3\n",
      "0  0.759419  0.745521 -0.459754\n",
      "1 -0.070177 -1.001262  0.077446\n",
      "2  0.327479  0.135174  0.807577\n",
      "col1    0.829596\n",
      "col2    1.746783\n",
      "col3    1.267331\n",
      "dtype: float64\n",
      "***************\n",
      "0    1.219173\n",
      "1    1.078708\n",
      "2    0.672403\n",
      "dtype: float64\n"
     ]
    }
   ],
   "source": [
    "#Caliculating max-min based on row wise and column wise\n",
    "df = pd.DataFrame(np.random.randn(3,3), columns=['col1','col2','col3'])\n",
    "print(df)\n",
    "print(df.apply(lambda x : x.max() - x.min(), axis=0))#Row wise operation\n",
    "print(\"***************\")\n",
    "print(df.apply(lambda x : x.max() - x.min(), axis=1))#Column wise operation"
   ]
  },
  {
   "cell_type": "code",
   "execution_count": 5,
   "id": "a66fdded",
   "metadata": {},
   "outputs": [
    {
     "name": "stdout",
     "output_type": "stream",
     "text": [
      "        A  B  C   D\n",
      "first   1  3  2   4\n",
      "second  5  2  2   3\n",
      "third   3  4  7   6\n",
      "fourth  4  3  3  12\n",
      "fifth   2  4  4   7\n"
     ]
    },
    {
     "data": {
      "text/html": [
       "<div>\n",
       "<style scoped>\n",
       "    .dataframe tbody tr th:only-of-type {\n",
       "        vertical-align: middle;\n",
       "    }\n",
       "\n",
       "    .dataframe tbody tr th {\n",
       "        vertical-align: top;\n",
       "    }\n",
       "\n",
       "    .dataframe thead th {\n",
       "        text-align: right;\n",
       "    }\n",
       "</style>\n",
       "<table border=\"1\" class=\"dataframe\">\n",
       "  <thead>\n",
       "    <tr style=\"text-align: right;\">\n",
       "      <th></th>\n",
       "      <th>A</th>\n",
       "      <th>B</th>\n",
       "      <th>C</th>\n",
       "      <th>D</th>\n",
       "    </tr>\n",
       "  </thead>\n",
       "  <tbody>\n",
       "    <tr>\n",
       "      <th>first</th>\n",
       "      <td>1.0</td>\n",
       "      <td>3.0</td>\n",
       "      <td>2.0</td>\n",
       "      <td>4.0</td>\n",
       "    </tr>\n",
       "    <tr>\n",
       "      <th>dues</th>\n",
       "      <td>NaN</td>\n",
       "      <td>NaN</td>\n",
       "      <td>NaN</td>\n",
       "      <td>NaN</td>\n",
       "    </tr>\n",
       "    <tr>\n",
       "      <th>trois</th>\n",
       "      <td>NaN</td>\n",
       "      <td>NaN</td>\n",
       "      <td>NaN</td>\n",
       "      <td>NaN</td>\n",
       "    </tr>\n",
       "    <tr>\n",
       "      <th>fourth</th>\n",
       "      <td>4.0</td>\n",
       "      <td>3.0</td>\n",
       "      <td>3.0</td>\n",
       "      <td>12.0</td>\n",
       "    </tr>\n",
       "    <tr>\n",
       "      <th>fifth</th>\n",
       "      <td>2.0</td>\n",
       "      <td>4.0</td>\n",
       "      <td>4.0</td>\n",
       "      <td>7.0</td>\n",
       "    </tr>\n",
       "  </tbody>\n",
       "</table>\n",
       "</div>"
      ],
      "text/plain": [
       "          A    B    C     D\n",
       "first   1.0  3.0  2.0   4.0\n",
       "dues    NaN  NaN  NaN   NaN\n",
       "trois   NaN  NaN  NaN   NaN\n",
       "fourth  4.0  3.0  3.0  12.0\n",
       "fifth   2.0  4.0  4.0   7.0"
      ]
     },
     "execution_count": 5,
     "metadata": {},
     "output_type": "execute_result"
    }
   ],
   "source": [
    "#Reindexing\n",
    "import pandas as pd\n",
    "import numpy as np\n",
    "df = pd.DataFrame({\"A\":[1, 5, 3, 4, 2], \n",
    "                   \"B\":[3, 2, 4, 3, 4], \n",
    "                   \"C\":[2, 2, 7, 3, 4], \n",
    "                   \"D\":[4, 3, 6, 12, 7]}, \n",
    "                   index =[\"first\", \"second\", \"third\", \"fourth\", \"fifth\"]) \n",
    "print(df)\n",
    "a = df.reindex([\"first\", \"dues\", \"trois\", \"fourth\", \"fifth\"])\n",
    "a"
   ]
  },
  {
   "cell_type": "code",
   "execution_count": 8,
   "id": "7218c4bd",
   "metadata": {},
   "outputs": [
    {
     "name": "stdout",
     "output_type": "stream",
     "text": [
      "        A  B  C   D\n",
      "first   1  3  2   4\n",
      "second  5  2  2   3\n",
      "third   3  4  7   6\n",
      "fourth  4  3  3  12\n",
      "fifth   2  4  4   7\n",
      "***************\n",
      "          A    B    C     D\n",
      "first   1.0  3.0  2.0   4.0\n",
      "dues    NaN  NaN  NaN   NaN\n",
      "trois   NaN  NaN  NaN   NaN\n",
      "fourth  4.0  3.0  3.0  12.0\n",
      "fifth   2.0  4.0  4.0   7.0\n"
     ]
    },
    {
     "data": {
      "text/html": [
       "<div>\n",
       "<style scoped>\n",
       "    .dataframe tbody tr th:only-of-type {\n",
       "        vertical-align: middle;\n",
       "    }\n",
       "\n",
       "    .dataframe tbody tr th {\n",
       "        vertical-align: top;\n",
       "    }\n",
       "\n",
       "    .dataframe thead th {\n",
       "        text-align: right;\n",
       "    }\n",
       "</style>\n",
       "<table border=\"1\" class=\"dataframe\">\n",
       "  <thead>\n",
       "    <tr style=\"text-align: right;\">\n",
       "      <th></th>\n",
       "      <th>A</th>\n",
       "      <th>B</th>\n",
       "      <th>C</th>\n",
       "      <th>D</th>\n",
       "    </tr>\n",
       "  </thead>\n",
       "  <tbody>\n",
       "    <tr>\n",
       "      <th>first</th>\n",
       "      <td>1</td>\n",
       "      <td>3</td>\n",
       "      <td>2</td>\n",
       "      <td>4</td>\n",
       "    </tr>\n",
       "    <tr>\n",
       "      <th>dues</th>\n",
       "      <td>120</td>\n",
       "      <td>120</td>\n",
       "      <td>120</td>\n",
       "      <td>120</td>\n",
       "    </tr>\n",
       "    <tr>\n",
       "      <th>trois</th>\n",
       "      <td>120</td>\n",
       "      <td>120</td>\n",
       "      <td>120</td>\n",
       "      <td>120</td>\n",
       "    </tr>\n",
       "    <tr>\n",
       "      <th>fourth</th>\n",
       "      <td>4</td>\n",
       "      <td>3</td>\n",
       "      <td>3</td>\n",
       "      <td>12</td>\n",
       "    </tr>\n",
       "    <tr>\n",
       "      <th>fifth</th>\n",
       "      <td>2</td>\n",
       "      <td>4</td>\n",
       "      <td>4</td>\n",
       "      <td>7</td>\n",
       "    </tr>\n",
       "  </tbody>\n",
       "</table>\n",
       "</div>"
      ],
      "text/plain": [
       "          A    B    C    D\n",
       "first     1    3    2    4\n",
       "dues    120  120  120  120\n",
       "trois   120  120  120  120\n",
       "fourth    4    3    3   12\n",
       "fifth     2    4    4    7"
      ]
     },
     "execution_count": 8,
     "metadata": {},
     "output_type": "execute_result"
    }
   ],
   "source": [
    "#Filling NaN values with some user defined value & reindexing the rows\n",
    "import pandas as pd\n",
    "import numpy as np\n",
    "df = pd.DataFrame({\"A\":[1, 5, 3, 4, 2], \n",
    "                   \"B\":[3, 2, 4, 3, 4], \n",
    "                   \"C\":[2, 2, 7, 3, 4], \n",
    "                   \"D\":[4, 3, 6, 12, 7]}, \n",
    "                   index =[\"first\", \"second\", \"third\", \"fourth\", \"fifth\"]) \n",
    "print(df)\n",
    "print(\"***************\")\n",
    "a = df.reindex([\"first\", \"dues\", \"trois\", \"fourth\", \"fifth\"])\n",
    "print(a)\n",
    "b = df.reindex([\"first\", \"dues\", \"trois\", \"fourth\", \"fifth\"],fill_value=120)\n",
    "b"
   ]
  },
  {
   "cell_type": "code",
   "execution_count": 13,
   "id": "8a7a5439",
   "metadata": {
    "scrolled": true
   },
   "outputs": [
    {
     "name": "stdout",
     "output_type": "stream",
     "text": [
      "   A  B  C\n",
      "0  1  3  2\n",
      "1  5  2  2\n",
      "2  3  4  7\n",
      "3  4  3  3\n",
      "4  2  4  4\n",
      "   A   D   E\n",
      "0  1 NaN NaN\n",
      "1  5 NaN NaN\n",
      "2  3 NaN NaN\n",
      "3  4 NaN NaN\n",
      "4  2 NaN NaN\n"
     ]
    },
    {
     "data": {
      "text/html": [
       "<div>\n",
       "<style scoped>\n",
       "    .dataframe tbody tr th:only-of-type {\n",
       "        vertical-align: middle;\n",
       "    }\n",
       "\n",
       "    .dataframe tbody tr th {\n",
       "        vertical-align: top;\n",
       "    }\n",
       "\n",
       "    .dataframe thead th {\n",
       "        text-align: right;\n",
       "    }\n",
       "</style>\n",
       "<table border=\"1\" class=\"dataframe\">\n",
       "  <thead>\n",
       "    <tr style=\"text-align: right;\">\n",
       "      <th></th>\n",
       "      <th>A</th>\n",
       "      <th>D</th>\n",
       "      <th>E</th>\n",
       "    </tr>\n",
       "  </thead>\n",
       "  <tbody>\n",
       "    <tr>\n",
       "      <th>0</th>\n",
       "      <td>1</td>\n",
       "      <td>250</td>\n",
       "      <td>250</td>\n",
       "    </tr>\n",
       "    <tr>\n",
       "      <th>1</th>\n",
       "      <td>5</td>\n",
       "      <td>250</td>\n",
       "      <td>250</td>\n",
       "    </tr>\n",
       "    <tr>\n",
       "      <th>2</th>\n",
       "      <td>3</td>\n",
       "      <td>250</td>\n",
       "      <td>250</td>\n",
       "    </tr>\n",
       "    <tr>\n",
       "      <th>3</th>\n",
       "      <td>4</td>\n",
       "      <td>250</td>\n",
       "      <td>250</td>\n",
       "    </tr>\n",
       "    <tr>\n",
       "      <th>4</th>\n",
       "      <td>2</td>\n",
       "      <td>250</td>\n",
       "      <td>250</td>\n",
       "    </tr>\n",
       "  </tbody>\n",
       "</table>\n",
       "</div>"
      ],
      "text/plain": [
       "   A    D    E\n",
       "0  1  250  250\n",
       "1  5  250  250\n",
       "2  3  250  250\n",
       "3  4  250  250\n",
       "4  2  250  250"
      ]
     },
     "execution_count": 13,
     "metadata": {},
     "output_type": "execute_result"
    }
   ],
   "source": [
    "#Reindex column names\n",
    "df1 = pd.DataFrame({\"A\":[1, 5, 3, 4, 2], \n",
    "                    \"B\":[3, 2, 4, 3, 4], \n",
    "                    \"C\":[2, 2, 7, 3, 4], \n",
    "                    }) \n",
    "\n",
    "print(df1)\n",
    "\n",
    "df2 = df1.reindex(columns=['A','D','E'])\n",
    "print(df2)\n",
    "c = df1.reindex(columns=['A','D','E'], fill_value = 250)\n",
    "c"
   ]
  },
  {
   "cell_type": "code",
   "execution_count": 17,
   "id": "77b31bc7",
   "metadata": {},
   "outputs": [
    {
     "name": "stdout",
     "output_type": "stream",
     "text": [
      "       col1      col2      col3\n",
      "0 -0.789416 -0.039558 -0.470638\n",
      "1 -0.633013  0.474970  1.381687\n",
      "2  0.537907  0.690052  0.160503\n",
      "3  1.049712  0.120638  0.824079\n",
      "4 -1.063318  0.197021 -1.851249\n",
      "5 -0.155970  0.412494  0.188667\n",
      "6 -0.399386  0.549240  1.297863\n",
      "7 -0.277994  0.600497  0.179122\n",
      "8 -0.503373 -1.284908 -0.106061\n",
      "9  0.795542 -0.559976 -0.457966\n",
      "***********\n",
      "       col1      col2      col3\n",
      "0 -0.307548  0.654445  1.102265\n",
      "1  0.933605  0.140239  1.504967\n",
      "2  0.787440  0.423851 -0.121237\n",
      "3  0.909695 -0.321673 -0.607568\n",
      "4 -1.437065  1.083091 -1.718058\n",
      "5 -0.393619 -0.682831 -0.907591\n",
      "6  2.057370 -0.599220  1.558289\n"
     ]
    },
    {
     "data": {
      "text/html": [
       "<div>\n",
       "<style scoped>\n",
       "    .dataframe tbody tr th:only-of-type {\n",
       "        vertical-align: middle;\n",
       "    }\n",
       "\n",
       "    .dataframe tbody tr th {\n",
       "        vertical-align: top;\n",
       "    }\n",
       "\n",
       "    .dataframe thead th {\n",
       "        text-align: right;\n",
       "    }\n",
       "</style>\n",
       "<table border=\"1\" class=\"dataframe\">\n",
       "  <thead>\n",
       "    <tr style=\"text-align: right;\">\n",
       "      <th></th>\n",
       "      <th>col1</th>\n",
       "      <th>col2</th>\n",
       "      <th>col3</th>\n",
       "    </tr>\n",
       "  </thead>\n",
       "  <tbody>\n",
       "    <tr>\n",
       "      <th>0</th>\n",
       "      <td>-0.307548</td>\n",
       "      <td>0.654445</td>\n",
       "      <td>1.102265</td>\n",
       "    </tr>\n",
       "    <tr>\n",
       "      <th>1</th>\n",
       "      <td>0.933605</td>\n",
       "      <td>0.140239</td>\n",
       "      <td>1.504967</td>\n",
       "    </tr>\n",
       "    <tr>\n",
       "      <th>2</th>\n",
       "      <td>0.787440</td>\n",
       "      <td>0.423851</td>\n",
       "      <td>-0.121237</td>\n",
       "    </tr>\n",
       "    <tr>\n",
       "      <th>3</th>\n",
       "      <td>0.909695</td>\n",
       "      <td>-0.321673</td>\n",
       "      <td>-0.607568</td>\n",
       "    </tr>\n",
       "    <tr>\n",
       "      <th>4</th>\n",
       "      <td>-1.437065</td>\n",
       "      <td>1.083091</td>\n",
       "      <td>-1.718058</td>\n",
       "    </tr>\n",
       "    <tr>\n",
       "      <th>5</th>\n",
       "      <td>-0.393619</td>\n",
       "      <td>-0.682831</td>\n",
       "      <td>-0.907591</td>\n",
       "    </tr>\n",
       "    <tr>\n",
       "      <th>6</th>\n",
       "      <td>2.057370</td>\n",
       "      <td>-0.599220</td>\n",
       "      <td>1.558289</td>\n",
       "    </tr>\n",
       "    <tr>\n",
       "      <th>7</th>\n",
       "      <td>NaN</td>\n",
       "      <td>NaN</td>\n",
       "      <td>NaN</td>\n",
       "    </tr>\n",
       "    <tr>\n",
       "      <th>8</th>\n",
       "      <td>NaN</td>\n",
       "      <td>NaN</td>\n",
       "      <td>NaN</td>\n",
       "    </tr>\n",
       "    <tr>\n",
       "      <th>9</th>\n",
       "      <td>NaN</td>\n",
       "      <td>NaN</td>\n",
       "      <td>NaN</td>\n",
       "    </tr>\n",
       "  </tbody>\n",
       "</table>\n",
       "</div>"
      ],
      "text/plain": [
       "       col1      col2      col3\n",
       "0 -0.307548  0.654445  1.102265\n",
       "1  0.933605  0.140239  1.504967\n",
       "2  0.787440  0.423851 -0.121237\n",
       "3  0.909695 -0.321673 -0.607568\n",
       "4 -1.437065  1.083091 -1.718058\n",
       "5 -0.393619 -0.682831 -0.907591\n",
       "6  2.057370 -0.599220  1.558289\n",
       "7       NaN       NaN       NaN\n",
       "8       NaN       NaN       NaN\n",
       "9       NaN       NaN       NaN"
      ]
     },
     "execution_count": 17,
     "metadata": {},
     "output_type": "execute_result"
    }
   ],
   "source": [
    "#Reindexing to align with other objects\n",
    "df1 = pd.DataFrame(np.random.randn(10,3),columns=['col1','col2','col3'])\n",
    "df2 = pd.DataFrame(np.random.randn(7,3),columns=['col1','col2','col3'])\n",
    "print(df1)\n",
    "print(\"***********\")\n",
    "print(df2)\n",
    "df3 = df2.reindex_like(df1)\n",
    "df3"
   ]
  },
  {
   "cell_type": "code",
   "execution_count": 22,
   "id": "3980b644",
   "metadata": {},
   "outputs": [
    {
     "name": "stdout",
     "output_type": "stream",
     "text": [
      "            A     x         y       C           D\n",
      "0  2016-01-01   0.0  0.463801    High  104.439135\n",
      "1  2016-01-02   1.0  0.969705  Medium  100.795439\n",
      "2  2016-01-03   2.0  0.233585    High  106.081302\n",
      "3  2016-01-04   3.0  0.308874    High  121.993569\n",
      "4  2016-01-05   4.0  0.490156  Medium  105.492138\n",
      "5  2016-01-06   5.0  0.962963     Low   98.685886\n",
      "6  2016-01-07   6.0  0.534121     Low   93.280515\n",
      "7  2016-01-08   7.0  0.022677     Low  124.664915\n",
      "8  2016-01-09   8.0  0.401204     Low   78.927770\n",
      "9  2016-01-10   9.0  0.153546    High  108.256208\n",
      "10 2016-01-11  10.0  0.917013  Medium   90.723452\n",
      "11 2016-01-12  11.0  0.265173     Low   68.368279\n",
      "12 2016-01-13  12.0  0.019632  Medium   83.647558\n",
      "13 2016-01-14  13.0  0.573318    High   87.899271\n",
      "14 2016-01-15  14.0  0.246767     Low  120.377697\n",
      "15 2016-01-16  15.0  0.566894     Low   93.465190\n",
      "16 2016-01-17  16.0  0.890367    High   79.130292\n",
      "17 2016-01-18  17.0  0.577191    High   94.205545\n",
      "18 2016-01-19  18.0  0.617192    High  124.596908\n",
      "19 2016-01-20  19.0  0.730579    High   83.467470\n",
      "20 2016-01-21  20.0  0.283909    High  115.821210\n",
      "21 2016-01-22  21.0  0.995196     Low  118.531647\n",
      "************\n",
      "A\n",
      "x\n",
      "y\n",
      "C\n",
      "D\n"
     ]
    }
   ],
   "source": [
    "#Iterating over pandas Series/Dataframe\n",
    "N=22\n",
    "df = pd.DataFrame({\n",
    "\t   'A': pd.date_range(start='2016-01-01',periods=N,freq='D'),\n",
    "\t   'x': np.linspace(0,stop=N-1,num=N),\n",
    "\t   'y': np.random.rand(N),\n",
    "\t   'C': np.random.choice(['Low','Medium','High'],N).tolist(),\n",
    "\t   'D': np.random.normal(100, 10, size=(N)).tolist()\n",
    "\t   })\n",
    "\n",
    "print(df)\n",
    "print(\"************\")\n",
    "for col in df:\n",
    "\t   print(col)"
   ]
  },
  {
   "cell_type": "code",
   "execution_count": 4,
   "id": "a0f925af",
   "metadata": {},
   "outputs": [
    {
     "name": "stdout",
     "output_type": "stream",
     "text": [
      "           A    x         y     C           D\n",
      "0 2016-01-01  0.0  0.190453  High  103.089836\n",
      "1 2016-01-02  1.0  0.618811   Low  121.145854\n",
      "2 2016-01-03  2.0  0.292840  High  104.895991\n",
      "3 2016-01-04  3.0  0.394908  High   89.891406\n",
      "4 2016-01-05  4.0  0.237316   Low  106.000028\n",
      "**************\n",
      "key A value 0   2016-01-01\n",
      "1   2016-01-02\n",
      "2   2016-01-03\n",
      "3   2016-01-04\n",
      "4   2016-01-05\n",
      "Name: A, dtype: datetime64[ns]\n",
      "key x value 0    0.0\n",
      "1    1.0\n",
      "2    2.0\n",
      "3    3.0\n",
      "4    4.0\n",
      "Name: x, dtype: float64\n",
      "key y value 0    0.190453\n",
      "1    0.618811\n",
      "2    0.292840\n",
      "3    0.394908\n",
      "4    0.237316\n",
      "Name: y, dtype: float64\n",
      "key C value 0    High\n",
      "1     Low\n",
      "2    High\n",
      "3    High\n",
      "4     Low\n",
      "Name: C, dtype: object\n",
      "key D value 0    103.089836\n",
      "1    121.145854\n",
      "2    104.895991\n",
      "3     89.891406\n",
      "4    106.000028\n",
      "Name: D, dtype: float64\n"
     ]
    }
   ],
   "source": [
    "#iterate via the rows using iteritems\n",
    "import pandas as pd\n",
    "import numpy as np\n",
    "N=5\n",
    "df = pd.DataFrame({\n",
    "\t   'A': pd.date_range(start='2016-01-01',periods=N,freq='D'),\n",
    "\t   'x': np.linspace(0,stop=N-1,num=N),\n",
    "\t   'y': np.random.rand(N),\n",
    "\t   'C': np.random.choice(['Low','Medium','High'],N).tolist(),\n",
    "\t   'D': np.random.normal(100, 10, size=(N)).tolist()\n",
    "\t   })\n",
    "\n",
    "print(df)\n",
    "print(\"**************\")\n",
    "for key,value in df.iteritems():\n",
    "    print(\"key\",key,\"value\",value)"
   ]
  },
  {
   "cell_type": "code",
   "execution_count": 5,
   "id": "9b2ccbbc",
   "metadata": {},
   "outputs": [
    {
     "name": "stdout",
     "output_type": "stream",
     "text": [
      "           A    x         y       C          D\n",
      "0 2016-01-01  0.0  0.598874  Medium  91.079062\n",
      "1 2016-01-02  1.0  0.645463    High  93.349931\n",
      "2 2016-01-03  2.0  0.498034     Low  96.699809\n",
      "3 2016-01-04  3.0  0.004568  Medium  74.361341\n",
      "4 2016-01-05  4.0  0.595936  Medium  87.230001\n",
      "**************\n",
      "row_index 0 row A    2016-01-01 00:00:00\n",
      "x                    0.0\n",
      "y               0.598874\n",
      "C                 Medium\n",
      "D              91.079062\n",
      "Name: 0, dtype: object\n",
      "row_index 1 row A    2016-01-02 00:00:00\n",
      "x                    1.0\n",
      "y               0.645463\n",
      "C                   High\n",
      "D              93.349931\n",
      "Name: 1, dtype: object\n",
      "row_index 2 row A    2016-01-03 00:00:00\n",
      "x                    2.0\n",
      "y               0.498034\n",
      "C                    Low\n",
      "D              96.699809\n",
      "Name: 2, dtype: object\n",
      "row_index 3 row A    2016-01-04 00:00:00\n",
      "x                    3.0\n",
      "y               0.004568\n",
      "C                 Medium\n",
      "D              74.361341\n",
      "Name: 3, dtype: object\n",
      "row_index 4 row A    2016-01-05 00:00:00\n",
      "x                    4.0\n",
      "y               0.595936\n",
      "C                 Medium\n",
      "D              87.230001\n",
      "Name: 4, dtype: object\n"
     ]
    }
   ],
   "source": [
    "#iterate via the rows using iterrows\n",
    "import pandas as pd\n",
    "import numpy as np\n",
    "N=5\n",
    "df = pd.DataFrame({\n",
    "\t   'A': pd.date_range(start='2016-01-01',periods=N,freq='D'),\n",
    "\t   'x': np.linspace(0,stop=N-1,num=N),\n",
    "\t   'y': np.random.rand(N),\n",
    "\t   'C': np.random.choice(['Low','Medium','High'],N).tolist(),\n",
    "\t   'D': np.random.normal(100, 10, size=(N)).tolist()\n",
    "\t   })\n",
    "\n",
    "print(df)\n",
    "print(\"**************\")\n",
    "for row_index,row in df.iterrows():\n",
    "    print(\"row_index\",row_index,\"row\",row)"
   ]
  },
  {
   "cell_type": "code",
   "execution_count": 6,
   "id": "95beae90",
   "metadata": {},
   "outputs": [
    {
     "name": "stdout",
     "output_type": "stream",
     "text": [
      "           A    x         y       C           D\n",
      "0 2016-01-01  0.0  0.802472  Medium   94.035538\n",
      "1 2016-01-02  1.0  0.212969  Medium   95.174028\n",
      "2 2016-01-03  2.0  0.263484     Low  104.859756\n",
      "3 2016-01-04  3.0  0.137552     Low   94.389654\n",
      "4 2016-01-05  4.0  0.981904  Medium  101.649299\n",
      "**************\n",
      "row Pandas(Index=0, A=Timestamp('2016-01-01 00:00:00'), x=0.0, y=0.8024715507060138, C='Medium', D=94.03553832241391)\n",
      "row Pandas(Index=1, A=Timestamp('2016-01-02 00:00:00'), x=1.0, y=0.21296878204997172, C='Medium', D=95.1740279405579)\n",
      "row Pandas(Index=2, A=Timestamp('2016-01-03 00:00:00'), x=2.0, y=0.2634838738997719, C='Low', D=104.85975551876759)\n",
      "row Pandas(Index=3, A=Timestamp('2016-01-04 00:00:00'), x=3.0, y=0.13755168566974219, C='Low', D=94.38965397635022)\n",
      "row Pandas(Index=4, A=Timestamp('2016-01-05 00:00:00'), x=4.0, y=0.9819042389393858, C='Medium', D=101.649298636005)\n"
     ]
    }
   ],
   "source": [
    "#iterate via the rows using itertuples\n",
    "import pandas as pd\n",
    "import numpy as np\n",
    "N=5\n",
    "df = pd.DataFrame({\n",
    "\t   'A': pd.date_range(start='2016-01-01',periods=N,freq='D'),\n",
    "\t   'x': np.linspace(0,stop=N-1,num=N),\n",
    "\t   'y': np.random.rand(N),\n",
    "\t   'C': np.random.choice(['Low','Medium','High'],N).tolist(),\n",
    "\t   'D': np.random.normal(100, 10, size=(N)).tolist()\n",
    "\t   })\n",
    "\n",
    "print(df)\n",
    "print(\"**************\")\n",
    "for row in df.itertuples():\n",
    "    print(\"row\",row)"
   ]
  },
  {
   "cell_type": "code",
   "execution_count": 10,
   "id": "4f41c215",
   "metadata": {},
   "outputs": [
    {
     "name": "stdout",
     "output_type": "stream",
     "text": [
      "p    2\n",
      "q    3\n",
      "r    4\n",
      "s    5\n",
      "dtype: int64\n"
     ]
    },
    {
     "data": {
      "text/html": [
       "<div>\n",
       "<style scoped>\n",
       "    .dataframe tbody tr th:only-of-type {\n",
       "        vertical-align: middle;\n",
       "    }\n",
       "\n",
       "    .dataframe tbody tr th {\n",
       "        vertical-align: top;\n",
       "    }\n",
       "\n",
       "    .dataframe thead th {\n",
       "        text-align: right;\n",
       "    }\n",
       "</style>\n",
       "<table border=\"1\" class=\"dataframe\">\n",
       "  <thead>\n",
       "    <tr style=\"text-align: right;\">\n",
       "      <th></th>\n",
       "      <th>index</th>\n",
       "      <th>0</th>\n",
       "    </tr>\n",
       "  </thead>\n",
       "  <tbody>\n",
       "    <tr>\n",
       "      <th>0</th>\n",
       "      <td>p</td>\n",
       "      <td>2</td>\n",
       "    </tr>\n",
       "    <tr>\n",
       "      <th>1</th>\n",
       "      <td>q</td>\n",
       "      <td>3</td>\n",
       "    </tr>\n",
       "    <tr>\n",
       "      <th>2</th>\n",
       "      <td>r</td>\n",
       "      <td>4</td>\n",
       "    </tr>\n",
       "    <tr>\n",
       "      <th>3</th>\n",
       "      <td>s</td>\n",
       "      <td>5</td>\n",
       "    </tr>\n",
       "  </tbody>\n",
       "</table>\n",
       "</div>"
      ],
      "text/plain": [
       "  index  0\n",
       "0     p  2\n",
       "1     q  3\n",
       "2     r  4\n",
       "3     s  5"
      ]
     },
     "execution_count": 10,
     "metadata": {},
     "output_type": "execute_result"
    }
   ],
   "source": [
    "#reset_index\n",
    "s = pd.Series([2, 3, 4, 5],\n",
    "              index=pd.Index(['p', 'q', 'r', 's']))\n",
    "print(s)\n",
    "s.reset_index()"
   ]
  },
  {
   "cell_type": "code",
   "execution_count": 17,
   "id": "864beb3b",
   "metadata": {},
   "outputs": [
    {
     "name": "stdout",
     "output_type": "stream",
     "text": [
      "          A         B         C         D\n",
      "a  1.072754 -1.548775 -1.643803  0.246683\n",
      "b -1.458653 -1.271410 -0.722258 -0.551817\n",
      "c -1.055086  1.424571  1.227396 -1.253294\n",
      "d  0.710920  0.181116 -1.090309  0.024278\n",
      "**********\n",
      "a    0.246683\n",
      "b   -0.551817\n",
      "c   -1.253294\n",
      "d    0.024278\n",
      "Name: D, dtype: float64\n"
     ]
    }
   ],
   "source": [
    "#Loc df\n",
    "df = pd.DataFrame(np.random.randn(4, 4),\n",
    "\t\tindex = ['a','b','c','d'], columns = ['A', 'B', 'C', 'D'])\n",
    "print(df)\n",
    "print(\"**********\")\n",
    "print(df.loc[:,'D'])"
   ]
  },
  {
   "cell_type": "code",
   "execution_count": 19,
   "id": "df556579",
   "metadata": {},
   "outputs": [
    {
     "name": "stdout",
     "output_type": "stream",
     "text": [
      "          A         B         C         D\n",
      "a  1.414510  0.762699  1.662533  0.814861\n",
      "b  1.808408  0.529480 -0.966812  0.950119\n",
      "c -1.299027 -0.862662  2.090517  0.876090\n",
      "d  0.083955  0.755782  0.494742  2.000024\n",
      "**********\n",
      "          A         B         C\n",
      "a  1.414510  0.762699  1.662533\n",
      "b  1.808408  0.529480 -0.966812\n"
     ]
    }
   ],
   "source": [
    "#iloc \n",
    "df = pd.DataFrame(np.random.randn(4, 4),\n",
    "\t\tindex = ['a','b','c','d'], columns = ['A', 'B', 'C', 'D'])\n",
    "print(df)\n",
    "print(\"**********\")\n",
    "print(df.iloc[:2,:3])"
   ]
  },
  {
   "cell_type": "code",
   "execution_count": 26,
   "id": "b6cc46cf",
   "metadata": {},
   "outputs": [
    {
     "name": "stdout",
     "output_type": "stream",
     "text": [
      "          A         B         C         D\n",
      "a -1.234045 -0.620092 -0.604496  0.274858\n",
      "b -2.238299  0.387862 -1.274030  0.824923\n",
      "c  0.415778 -1.354779  0.452255  0.513867\n",
      "d  1.851580  1.743039 -0.523106  0.598319\n",
      "**********\n",
      "          A         B         C\n",
      "a -1.234045 -0.620092 -0.604496\n",
      "b -2.238299  0.387862 -1.274030\n",
      "c  0.415778 -1.354779  0.452255\n",
      "d  1.851580  1.743039 -0.523106\n"
     ]
    }
   ],
   "source": [
    "#ix \n",
    "df = pd.DataFrame(np.random.randn(4, 4),\n",
    "\t\tindex = ['a','b','c','d'], columns = ['A', 'B', 'C', 'D'])\n",
    "print(df)\n",
    "print(\"**********\")\n",
    "print(df[['A','B','C']])"
   ]
  },
  {
   "cell_type": "code",
   "execution_count": 28,
   "id": "784356b0",
   "metadata": {},
   "outputs": [
    {
     "name": "stdout",
     "output_type": "stream",
     "text": [
      "          A         B         C         D\n",
      "a  0.481532  0.386363 -1.395318 -0.060408\n",
      "b  1.156292  0.092743 -0.608110 -0.624573\n",
      "c  1.333212 -0.646871 -0.439907  0.169407\n",
      "d  0.711115  1.208291 -0.481513 -0.004926\n",
      "**********\n",
      "a   -0.060408\n",
      "b   -0.624573\n",
      "c    0.169407\n",
      "d   -0.004926\n",
      "Name: D, dtype: float64\n"
     ]
    }
   ],
   "source": [
    "#Accessing  via column\n",
    "df = pd.DataFrame(np.random.randn(4, 4),\n",
    "\t\tindex = ['a','b','c','d'], columns = ['A', 'B', 'C', 'D'])\n",
    "print(df)\n",
    "print(\"**********\")\n",
    "print(df.D)"
   ]
  }
 ],
 "metadata": {
  "kernelspec": {
   "display_name": "Python 3 (ipykernel)",
   "language": "python",
   "name": "python3"
  },
  "language_info": {
   "codemirror_mode": {
    "name": "ipython",
    "version": 3
   },
   "file_extension": ".py",
   "mimetype": "text/x-python",
   "name": "python",
   "nbconvert_exporter": "python",
   "pygments_lexer": "ipython3",
   "version": "3.9.7"
  }
 },
 "nbformat": 4,
 "nbformat_minor": 5
}
